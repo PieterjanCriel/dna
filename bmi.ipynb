{
 "cells": [
  {
   "cell_type": "code",
   "execution_count": 1,
   "metadata": {},
   "outputs": [
    {
     "name": "stdout",
     "output_type": "stream",
     "text": [
      "1.6.0\n"
     ]
    }
   ],
   "source": [
    "# Learning bmi\n",
    "import tensorflow as tf\n",
    "import numpy as np\n",
    "import matplotlib.pyplot as plt\n",
    "import shutil\n",
    "%matplotlib inline\n",
    "print (tf.__version__)\n",
    "tf.logging.set_verbosity(tf.logging.DEBUG)"
   ]
  },
  {
   "cell_type": "code",
   "execution_count": 2,
   "metadata": {},
   "outputs": [],
   "source": [
    "shutil.rmtree('bmi_trained', ignore_errors=True) # start fresh each time"
   ]
  },
  {
   "cell_type": "code",
   "execution_count": 3,
   "metadata": {},
   "outputs": [],
   "source": [
    "# Create the training data\n",
    "inputs = np.zeros((1000, 1), dtype=np.float32)\n",
    "targets = np.zeros((1000, 1), dtype=np.float32)\n",
    "for i in range(1000):\n",
    "    inputs[i] = 1.0 + 0.001 * i\n",
    "    targets[i] = 80 / inputs[i] ** 2"
   ]
  },
  {
   "cell_type": "code",
   "execution_count": 4,
   "metadata": {},
   "outputs": [],
   "source": [
    "# define input feature columns\n",
    "feature_columns = [tf.contrib.layers.real_valued_column('height') ]"
   ]
  },
  {
   "cell_type": "code",
   "execution_count": 5,
   "metadata": {},
   "outputs": [
    {
     "name": "stdout",
     "output_type": "stream",
     "text": [
      "INFO:tensorflow:Using default config.\n",
      "INFO:tensorflow:Using config: {'_master': '', '_save_summary_steps': 100, '_task_type': None, '_save_checkpoints_secs': 600, '_keep_checkpoint_every_n_hours': 10000, '_num_worker_replicas': 0, '_save_checkpoints_steps': None, '_tf_config': gpu_options {\n",
      "  per_process_gpu_memory_fraction: 1.0\n",
      "}\n",
      ", '_log_step_count_steps': 100, '_model_dir': 'bmi_trained', '_tf_random_seed': None, '_is_chief': True, '_session_config': None, '_environment': 'local', '_task_id': 0, '_keep_checkpoint_max': 5, '_cluster_spec': <tensorflow.python.training.server_lib.ClusterSpec object at 0x7f7cd370fc50>, '_evaluation_master': '', '_num_ps_replicas': 0}\n"
     ]
    }
   ],
   "source": [
    "# instantiate DNN model\n",
    "estimator = tf.contrib.learn.DNNRegressor( feature_columns=feature_columns, \n",
    "                                          hidden_units=[32,16,8],\n",
    "                                          optimizer=tf.train.AdamOptimizer(learning_rate=0.01),\n",
    "                                          model_dir='bmi_trained')"
   ]
  },
  {
   "cell_type": "code",
   "execution_count": 6,
   "metadata": {},
   "outputs": [],
   "source": [
    "def input_fn_train():\n",
    "    feature_data = {'height': tf.constant(inputs)}\n",
    "    label_data = tf.constant(targets)\n",
    "    return feature_data, label_data"
   ]
  },
  {
   "cell_type": "code",
   "execution_count": 7,
   "metadata": {},
   "outputs": [
    {
     "name": "stdout",
     "output_type": "stream",
     "text": [
      "DEBUG:tensorflow:Setting feature info to {'height': TensorSignature(dtype=tf.float32, shape=TensorShape([Dimension(1000), Dimension(1)]), is_sparse=False)}.\n",
      "DEBUG:tensorflow:Setting labels info to TensorSignature(dtype=tf.float32, shape=TensorShape([Dimension(1000), Dimension(1)]), is_sparse=False)\n",
      "DEBUG:tensorflow:Transforming feature_column _RealValuedColumn(column_name='height', dimension=1, default_value=None, dtype=tf.float32, normalizer=None)\n",
      "INFO:tensorflow:Create CheckpointSaverHook.\n",
      "INFO:tensorflow:Graph was finalized.\n",
      "INFO:tensorflow:Running local_init_op.\n",
      "INFO:tensorflow:Done running local_init_op.\n",
      "INFO:tensorflow:Saving checkpoints for 1 into bmi_trained/model.ckpt.\n",
      "INFO:tensorflow:step = 1, loss = 1864.4337\n",
      "INFO:tensorflow:global_step/sec: 817.294\n",
      "INFO:tensorflow:step = 101, loss = 389.74918 (0.123 sec)\n",
      "INFO:tensorflow:global_step/sec: 973.116\n",
      "INFO:tensorflow:step = 201, loss = 165.02612 (0.103 sec)\n",
      "INFO:tensorflow:global_step/sec: 929.076\n",
      "INFO:tensorflow:step = 301, loss = 1.6124171 (0.107 sec)\n",
      "INFO:tensorflow:global_step/sec: 897.087\n",
      "INFO:tensorflow:step = 401, loss = 0.09143824 (0.112 sec)\n",
      "INFO:tensorflow:global_step/sec: 959.406\n",
      "INFO:tensorflow:step = 501, loss = 0.044206694 (0.104 sec)\n",
      "INFO:tensorflow:global_step/sec: 914.003\n",
      "INFO:tensorflow:step = 601, loss = 0.033539005 (0.109 sec)\n",
      "INFO:tensorflow:global_step/sec: 822.496\n",
      "INFO:tensorflow:step = 701, loss = 0.026957786 (0.122 sec)\n",
      "INFO:tensorflow:global_step/sec: 782.085\n",
      "INFO:tensorflow:step = 801, loss = 0.022630109 (0.129 sec)\n",
      "INFO:tensorflow:global_step/sec: 804.661\n",
      "INFO:tensorflow:step = 901, loss = 0.019677117 (0.123 sec)\n",
      "INFO:tensorflow:Saving checkpoints for 1000 into bmi_trained/model.ckpt.\n",
      "INFO:tensorflow:Loss for final step: 0.01715062.\n"
     ]
    },
    {
     "data": {
      "text/plain": [
       "DNNRegressor(params={'head': <tensorflow.contrib.learn.python.learn.estimators.head._RegressionHead object at 0x7f7cd007b6d8>, 'dropout': None, 'gradient_clip_norm': None, 'embedding_lr_multipliers': None, 'hidden_units': [32, 16, 8], 'activation_fn': <function relu at 0x7f7ce3268488>, 'optimizer': <tensorflow.python.training.adam.AdamOptimizer object at 0x7f7cd007b668>, 'input_layer_min_slice_size': None, 'feature_columns': (_RealValuedColumn(column_name='height', dimension=1, default_value=None, dtype=tf.float32, normalizer=None),)})"
      ]
     },
     "execution_count": 7,
     "metadata": {},
     "output_type": "execute_result"
    }
   ],
   "source": [
    "estimator.fit(input_fn=input_fn_train, steps=1000)"
   ]
  },
  {
   "cell_type": "code",
   "execution_count": 8,
   "metadata": {},
   "outputs": [
    {
     "name": "stdout",
     "output_type": "stream",
     "text": [
      "DEBUG:tensorflow:Given features: {'height': <tf.Tensor 'Const:0' shape=(1000, 1) dtype=float32>}, required signatures: {'height': TensorSignature(dtype=tf.float32, shape=TensorShape([Dimension(1000), Dimension(1)]), is_sparse=False)}.\n",
      "DEBUG:tensorflow:Given labels: Tensor(\"Const_1:0\", shape=(1000, 1), dtype=float32), required signatures: TensorSignature(dtype=tf.float32, shape=TensorShape([Dimension(1000), Dimension(1)]), is_sparse=False).\n",
      "DEBUG:tensorflow:Transforming feature_column _RealValuedColumn(column_name='height', dimension=1, default_value=None, dtype=tf.float32, normalizer=None)\n",
      "INFO:tensorflow:Starting evaluation at 2018-03-27-09:19:53\n",
      "INFO:tensorflow:Graph was finalized.\n",
      "INFO:tensorflow:Restoring parameters from bmi_trained/model.ckpt-1000\n",
      "INFO:tensorflow:Running local_init_op.\n",
      "INFO:tensorflow:Done running local_init_op.\n",
      "INFO:tensorflow:Evaluation [1/1]\n",
      "INFO:tensorflow:Finished evaluation at 2018-03-27-09:19:53\n",
      "INFO:tensorflow:Saving dict for global step 1000: global_step = 1000, loss = 0.017130101\n"
     ]
    },
    {
     "data": {
      "text/plain": [
       "0.017130101"
      ]
     },
     "execution_count": 8,
     "metadata": {},
     "output_type": "execute_result"
    }
   ],
   "source": [
    "metrics = estimator.evaluate(input_fn=input_fn_train, steps=1)\n",
    "metrics['loss']"
   ]
  },
  {
   "cell_type": "code",
   "execution_count": 9,
   "metadata": {},
   "outputs": [],
   "source": [
    "def input_fn_predict():\n",
    "    feature_data = {'height': tf.constant(inputs)}\n",
    "    return feature_data"
   ]
  },
  {
   "cell_type": "code",
   "execution_count": 10,
   "metadata": {},
   "outputs": [],
   "source": [
    "#list(estimator.predict(input_fn=input_fn_predict))"
   ]
  },
  {
   "cell_type": "code",
   "execution_count": 11,
   "metadata": {},
   "outputs": [
    {
     "name": "stdout",
     "output_type": "stream",
     "text": [
      "WARNING:tensorflow:From /usr/local/lib/python3.5/dist-packages/tensorflow/python/util/deprecation.py:497: calling DNNRegressor.predict (from tensorflow.contrib.learn.python.learn.estimators.dnn) with outputs=None is deprecated and will be removed after 2017-03-01.\n",
      "Instructions for updating:\n",
      "Please switch to predict_scores, or set `outputs` argument.\n",
      "DEBUG:tensorflow:Transforming feature_column _RealValuedColumn(column_name='height', dimension=1, default_value=None, dtype=tf.float32, normalizer=None)\n",
      "INFO:tensorflow:Graph was finalized.\n",
      "INFO:tensorflow:Restoring parameters from bmi_trained/model.ckpt-1000\n",
      "INFO:tensorflow:Running local_init_op.\n",
      "INFO:tensorflow:Done running local_init_op.\n"
     ]
    },
    {
     "data": {
      "image/png": "[encoded data removed]",
      "text/plain": [
       "<Figure size 432x288 with 1 Axes>"
      ]
     },
     "metadata": {},
     "output_type": "display_data"
    }
   ],
   "source": [
    "plt.plot(inputs, targets, label='data')\n",
    "plt.plot(inputs, list(estimator.predict(input_fn=input_fn_predict)), label='prediction')\n",
    "plt.legend()\n",
    "plt.show()"
   ]
  }
 ],
 "metadata": {
  "kernelspec": {
   "display_name": "Python 3",
   "language": "python",
   "name": "python3"
  },
  "language_info": {
   "codemirror_mode": {
    "name": "ipython",
    "version": 3
   },
   "file_extension": ".py",
   "mimetype": "text/x-python",
   "name": "python",
   "nbconvert_exporter": "python",
   "pygments_lexer": "ipython3",
   "version": "3.5.2"
  }
 },
 "nbformat": 4,
 "nbformat_minor": 1
}
